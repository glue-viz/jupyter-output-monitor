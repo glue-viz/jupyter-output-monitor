{
 "cells": [
  {
   "cell_type": "markdown",
   "id": "52ef14a2-9f4f-4263-b534-515b1af215ab",
   "metadata": {},
   "source": [
    "# Imviz profiling"
   ]
  },
  {
   "cell_type": "markdown",
   "id": "ad1dc670-0b48-49f7-86db-0c45037b5a6f",
   "metadata": {},
   "source": [
    "Create three channels of smoothly varying images:"
   ]
  },
  {
   "cell_type": "code",
   "execution_count": 8,
   "id": "f676d76e-c33b-4c76-9907-98e5e4164b93",
   "metadata": {
    "execution": {
     "iopub.execute_input": "2024-11-12T12:34:55.373191Z",
     "iopub.status.busy": "2024-11-12T12:34:55.372801Z",
     "iopub.status.idle": "2024-11-12T12:34:55.773270Z",
     "shell.execute_reply": "2024-11-12T12:34:55.772727Z",
     "shell.execute_reply.started": "2024-11-12T12:34:55.373158Z"
    }
   },
   "outputs": [
    {
     "name": "stdout",
     "output_type": "stream",
     "text": [
      "CPU times: user 341 ms, sys: 51.9 ms, total: 393 ms\n",
      "Wall time: 392 ms\n"
     ]
    }
   ],
   "source": [
    "%%time\n",
    "from time import sleep\n",
    "\n",
    "import numpy as np\n",
    "from scipy.ndimage import gaussian_filter\n",
    "from astropy.nddata import NDData\n",
    "from astropy.wcs import WCS\n",
    "\n",
    "from jdaviz import Imviz\n",
    "\n",
    "shape = (4000, 4000)\n",
    "\n",
    "wcs = WCS({\n",
    "    'CTYPE1': 'RA---TAN', \n",
    "    'CUNIT1': 'deg', \n",
    "    'CDELT1': 0.01,\n",
    "    'CRPIX1': shape[0] / 2, \n",
    "    'CRVAL1': 180,\n",
    "    'CTYPE2': 'DEC--TAN', \n",
    "    'CUNIT2': 'deg', \n",
    "    'CDELT2': 0.01,\n",
    "    'CRPIX2': shape[1] / 2, \n",
    "    'CRVAL2': 0\n",
    "})\n",
    "\n",
    "random_shape = (6, 6)\n",
    "image_c = np.random.uniform(size=random_shape)\n",
    "image_y = np.random.uniform(size=random_shape)\n",
    "image_m = np.random.uniform(size=random_shape)\n",
    "\n",
    "colors = ['c', 'y', 'm']\n",
    "\n",
    "def low_pass_filter(x):\n",
    "    rfft = np.fft.rfft2(x)\n",
    "    irfft = np.fft.irfft2(rfft, shape)\n",
    "    return 2**16 * irfft / irfft.max()\n",
    "\n",
    "nddata_cym = [\n",
    "    NDData(low_pass_filter(image), wcs=wcs) \n",
    "    for image in [image_c, image_y, image_m]\n",
    "]"
   ]
  },
  {
   "cell_type": "markdown",
   "id": "b86e7b76-d38e-4c62-9c1c-eec252a7d1df",
   "metadata": {},
   "source": [
    "Initialize and show Imviz:"
   ]
  },
  {
   "cell_type": "code",
   "execution_count": 10,
   "id": "ca625d38-000f-4bcb-9df4-bf40b2dfbc57",
   "metadata": {
    "execution": {
     "iopub.execute_input": "2024-11-12T12:35:33.416916Z",
     "iopub.status.busy": "2024-11-12T12:35:33.416709Z",
     "iopub.status.idle": "2024-11-12T12:35:34.134737Z",
     "shell.execute_reply": "2024-11-12T12:35:34.134237Z",
     "shell.execute_reply.started": "2024-11-12T12:35:33.416900Z"
    }
   },
   "outputs": [
    {
     "data": {
      "application/vnd.jupyter.widget-view+json": {
       "model_id": "f881f9478b7f4101bba0df444ba7ceb2",
       "version_major": 2,
       "version_minor": 0
      },
      "text/plain": [
       "Application(config='imviz', docs_link='https://jdaviz.readthedocs.io/en/v4.0.0/imviz/index.html', events=['cal…"
      ]
     },
     "metadata": {},
     "output_type": "display_data"
    },
    {
     "name": "stdout",
     "output_type": "stream",
     "text": [
      "CPU times: user 637 ms, sys: 110 ms, total: 747 ms\n",
      "Wall time: 714 ms\n"
     ]
    }
   ],
   "source": [
    "%%time\n",
    "\n",
    "imviz = Imviz()\n",
    "label_mouseover = imviz.app.session.application._tools['g-coords-info']\n",
    "viewer = imviz.default_viewer._obj \n",
    "viewer.figure_widget  # SCREENSHOT\n",
    "imviz.show(height=800)  # EXCLUDE\n",
    "# imviz.show('sidecar:split-right', height=800)\n",
    "imviz.app.layout.border = '2px solid rgb(143, 56, 201)'"
   ]
  },
  {
   "cell_type": "markdown",
   "id": "86a709c4-0112-4909-b21d-52a54cb9a207",
   "metadata": {},
   "source": [
    "You can optionally set the compression to one of these two settings:"
   ]
  },
  {
   "cell_type": "code",
   "execution_count": 4,
   "id": "b9254c25-d29e-4712-be2f-b2a389c92161",
   "metadata": {
    "execution": {
     "iopub.execute_input": "2024-11-12T12:04:30.359174Z",
     "iopub.status.busy": "2024-11-12T12:04:30.358973Z",
     "iopub.status.idle": "2024-11-12T12:04:30.363411Z",
     "shell.execute_reply": "2024-11-12T12:04:30.362876Z",
     "shell.execute_reply.started": "2024-11-12T12:04:30.359156Z"
    }
   },
   "outputs": [
    {
     "data": {
      "application/vnd.jupyter.widget-view+json": {
       "model_id": "446f1c5c2b674461b6b2a0150556aa40",
       "version_major": 2,
       "version_minor": 0
      },
      "text/plain": [
       "Application(config='imviz', docs_link='https://jdaviz.readthedocs.io/en/v4.0.0/imviz/index.html', events=['cal…"
      ]
     },
     "execution_count": 4,
     "metadata": {},
     "output_type": "execute_result"
    }
   ],
   "source": [
    "imviz.app"
   ]
  },
  {
   "cell_type": "code",
   "execution_count": 7,
   "id": "703ad320-cf9f-46f2-a793-5a4fea128f96",
   "metadata": {
    "execution": {
     "iopub.execute_input": "2024-11-12T12:07:15.809694Z",
     "iopub.status.busy": "2024-11-12T12:07:15.809499Z",
     "iopub.status.idle": "2024-11-12T12:07:15.814890Z",
     "shell.execute_reply": "2024-11-12T12:07:15.814303Z",
     "shell.execute_reply.started": "2024-11-12T12:07:15.809677Z"
    }
   },
   "outputs": [
    {
     "data": {
      "application/vnd.jupyter.widget-view+json": {
       "model_id": "a5182fae269540459c1b5d7fe8c4884b",
       "version_major": 2,
       "version_minor": 0
      },
      "text/plain": [
       "Figure(axes=[Axis(grid_lines='none', label='x', scale=LinearScale(allow_padding=False, max=1.0, min=0.0), side…"
      ]
     },
     "execution_count": 7,
     "metadata": {},
     "output_type": "execute_result"
    }
   ],
   "source": [
    "viewer = imviz.app.get_viewer_by_id('imviz-0')\n",
    "viewer.figure_widget"
   ]
  },
  {
   "cell_type": "code",
   "execution_count": 16,
   "id": "b5bb227f-0556-4861-8e3d-0373b0a45cf9",
   "metadata": {
    "execution": {
     "iopub.execute_input": "2024-11-07T13:04:44.848205Z",
     "iopub.status.busy": "2024-11-07T13:04:44.847974Z",
     "iopub.status.idle": "2024-11-07T13:04:44.850677Z",
     "shell.execute_reply": "2024-11-07T13:04:44.850216Z",
     "shell.execute_reply.started": "2024-11-07T13:04:44.848189Z"
    }
   },
   "outputs": [],
   "source": [
    "# imviz.app.get_viewer('imviz-0')._composite_image.compression = 'png'\n",
    "\n",
    "# imviz.app.get_viewer('imviz-0')._composite_image.compression = 'none'"
   ]
  },
  {
   "cell_type": "markdown",
   "id": "b016c45f-3d33-40e7-888d-92ce25a830fc",
   "metadata": {},
   "source": [
    "Load the images into Imviz:"
   ]
  },
  {
   "cell_type": "code",
   "execution_count": 17,
   "id": "133183f4-b389-4cae-900d-7010c05dae4a",
   "metadata": {
    "execution": {
     "iopub.execute_input": "2024-11-07T13:04:56.657562Z",
     "iopub.status.busy": "2024-11-07T13:04:56.657273Z",
     "iopub.status.idle": "2024-11-07T13:04:57.478473Z",
     "shell.execute_reply": "2024-11-07T13:04:57.477900Z",
     "shell.execute_reply.started": "2024-11-07T13:04:56.657539Z"
    }
   },
   "outputs": [
    {
     "name": "stdout",
     "output_type": "stream",
     "text": [
      "glue-jupyter compression configuration: 'png'\n",
      "CPU times: user 827 ms, sys: 11.8 ms, total: 838 ms\n",
      "Wall time: 817 ms\n"
     ]
    }
   ],
   "source": [
    "%%time\n",
    "\n",
    "with imviz.batch_load():\n",
    "    for nddata, data_label in zip(nddata_cym, colors):\n",
    "        imviz.load_data(nddata, data_label=data_label)\n",
    "\n",
    "compression = imviz.app.get_viewer('imviz-0')._composite_image.compression\n",
    "print(f\"glue-jupyter compression configuration: '{compression}'\")"
   ]
  },
  {
   "cell_type": "markdown",
   "id": "52615af9-bd32-4d76-90f6-7677d8287198",
   "metadata": {},
   "source": [
    "Use WCS to align the images, zoom to fit:"
   ]
  },
  {
   "cell_type": "code",
   "execution_count": 18,
   "id": "508fa0c3-0f04-4ffb-a83f-955768070a20",
   "metadata": {
    "execution": {
     "iopub.execute_input": "2024-11-07T13:05:07.927083Z",
     "iopub.status.busy": "2024-11-07T13:05:07.926542Z",
     "iopub.status.idle": "2024-11-07T13:05:10.473757Z",
     "shell.execute_reply": "2024-11-07T13:05:10.473231Z",
     "shell.execute_reply.started": "2024-11-07T13:05:07.927056Z"
    }
   },
   "outputs": [
    {
     "name": "stdout",
     "output_type": "stream",
     "text": [
      "CPU times: user 3.09 s, sys: 612 ms, total: 3.7 s\n",
      "Wall time: 2.54 s\n"
     ]
    }
   ],
   "source": [
    "%%time\n",
    "\n",
    "orientation = imviz.plugins['Orientation']\n",
    "orientation.align_by = 'WCS'\n",
    "viewer.zoom_level = 'fit'"
   ]
  },
  {
   "cell_type": "markdown",
   "id": "198cf199-d330-4227-9489-6ad5f1e17afe",
   "metadata": {},
   "source": [
    "Rotate the image orientation by 180 deg counter-clockwise:"
   ]
  },
  {
   "cell_type": "code",
   "execution_count": 19,
   "id": "8fb46df8-e412-453e-93a0-d2660861942b",
   "metadata": {
    "execution": {
     "iopub.execute_input": "2024-11-07T13:05:19.008686Z",
     "iopub.status.busy": "2024-11-07T13:05:19.008487Z",
     "iopub.status.idle": "2024-11-07T13:05:20.754515Z",
     "shell.execute_reply": "2024-11-07T13:05:20.753718Z",
     "shell.execute_reply.started": "2024-11-07T13:05:19.008669Z"
    }
   },
   "outputs": [
    {
     "name": "stdout",
     "output_type": "stream",
     "text": [
      "CPU times: user 2.04 s, sys: 367 ms, total: 2.41 s\n",
      "Wall time: 1.74 s\n"
     ]
    }
   ],
   "source": [
    "%%time\n",
    "\n",
    "# rotate the image by 180 deg (CCW):\n",
    "orientation.rotation_angle = 180\n",
    "orientation.add_orientation()"
   ]
  },
  {
   "cell_type": "markdown",
   "id": "9e8d9faf-7fb7-429a-bc70-0019249f1485",
   "metadata": {},
   "source": [
    "Assign colors to each of the layers:"
   ]
  },
  {
   "cell_type": "code",
   "execution_count": 20,
   "id": "216ea01c-ab6d-4a1a-af63-9ab1070f4a91",
   "metadata": {
    "execution": {
     "iopub.execute_input": "2024-11-07T13:05:30.557110Z",
     "iopub.status.busy": "2024-11-07T13:05:30.556905Z",
     "iopub.status.idle": "2024-11-07T13:05:32.015177Z",
     "shell.execute_reply": "2024-11-07T13:05:32.014453Z",
     "shell.execute_reply.started": "2024-11-07T13:05:30.557094Z"
    }
   },
   "outputs": [
    {
     "name": "stdout",
     "output_type": "stream",
     "text": [
      "CPU times: user 1.45 s, sys: 16.2 ms, total: 1.47 s\n",
      "Wall time: 1.45 s\n"
     ]
    }
   ],
   "source": [
    "%%time\n",
    "\n",
    "plot_options = imviz.plugins[\"Plot Options\"]\n",
    "for layer, color in zip(plot_options.layer.choices, colors):\n",
    "    plot_options.layer = layer\n",
    "    plot_options.image_color_mode = 'Color'\n",
    "    plot_options.image_color = color\n",
    "    plot_options.image_opacity = 0.7"
   ]
  },
  {
   "cell_type": "markdown",
   "id": "12be3766-0de1-4c29-b8e3-8c7db14d5fde",
   "metadata": {},
   "source": [
    "Return to the default orientation:"
   ]
  },
  {
   "cell_type": "code",
   "execution_count": 21,
   "id": "dc9b71b1-f201-41bb-a5c2-426701aab578",
   "metadata": {
    "execution": {
     "iopub.execute_input": "2024-11-07T13:05:41.715059Z",
     "iopub.status.busy": "2024-11-07T13:05:41.714808Z",
     "iopub.status.idle": "2024-11-07T13:05:43.267211Z",
     "shell.execute_reply": "2024-11-07T13:05:43.266617Z",
     "shell.execute_reply.started": "2024-11-07T13:05:41.715042Z"
    }
   },
   "outputs": [
    {
     "name": "stdout",
     "output_type": "stream",
     "text": [
      "CPU times: user 1.81 s, sys: 292 ms, total: 2.1 s\n",
      "Wall time: 1.55 s\n"
     ]
    }
   ],
   "source": [
    "%%time\n",
    "\n",
    "orientation.orientation = 'Default orientation'"
   ]
  },
  {
   "cell_type": "markdown",
   "id": "99a2693f-473b-4dcc-86cd-3d7e395d2563",
   "metadata": {},
   "source": [
    "Blink through each layer (one visible at a time):"
   ]
  },
  {
   "cell_type": "code",
   "execution_count": 22,
   "id": "13a2aff2-ac88-4fcb-801c-eec8e7b1b730",
   "metadata": {
    "execution": {
     "iopub.execute_input": "2024-11-07T13:05:52.790115Z",
     "iopub.status.busy": "2024-11-07T13:05:52.789447Z",
     "iopub.status.idle": "2024-11-07T13:05:53.570934Z",
     "shell.execute_reply": "2024-11-07T13:05:53.570289Z",
     "shell.execute_reply.started": "2024-11-07T13:05:52.790097Z"
    }
   },
   "outputs": [
    {
     "name": "stdout",
     "output_type": "stream",
     "text": [
      "CPU times: user 781 ms, sys: 4.36 ms, total: 786 ms\n",
      "Wall time: 777 ms\n"
     ]
    }
   ],
   "source": [
    "%%time\n",
    "\n",
    "for i in range(len(plot_options.layer.choices)):\n",
    "    viewer.blink_once()"
   ]
  },
  {
   "cell_type": "markdown",
   "id": "c23c7704-47d7-42a2-8d3a-82134d390809",
   "metadata": {},
   "source": [
    "Make all layers visible again:"
   ]
  },
  {
   "cell_type": "code",
   "execution_count": 23,
   "id": "963c94d3-6956-4b82-8dc0-4d29daf602ea",
   "metadata": {
    "execution": {
     "iopub.execute_input": "2024-11-07T13:06:03.359546Z",
     "iopub.status.busy": "2024-11-07T13:06:03.359247Z",
     "iopub.status.idle": "2024-11-07T13:06:03.779840Z",
     "shell.execute_reply": "2024-11-07T13:06:03.779265Z",
     "shell.execute_reply.started": "2024-11-07T13:06:03.359528Z"
    }
   },
   "outputs": [
    {
     "name": "stdout",
     "output_type": "stream",
     "text": [
      "CPU times: user 414 ms, sys: 7.44 ms, total: 422 ms\n",
      "Wall time: 415 ms\n"
     ]
    }
   ],
   "source": [
    "%%time\n",
    "\n",
    "for layer in plot_options.layer.choices:\n",
    "    plot_options.layer = layer\n",
    "    plot_options.image_visible = True"
   ]
  },
  {
   "cell_type": "markdown",
   "id": "26892592-f701-4074-8dab-adb34771b1c8",
   "metadata": {},
   "source": [
    "Increment through colormap upper limits for each layer:"
   ]
  },
  {
   "cell_type": "code",
   "execution_count": 24,
   "id": "63377d12-4f15-4549-b756-4a8168273499",
   "metadata": {
    "execution": {
     "iopub.execute_input": "2024-11-07T13:06:14.512882Z",
     "iopub.status.busy": "2024-11-07T13:06:14.512685Z",
     "iopub.status.idle": "2024-11-07T13:06:19.962154Z",
     "shell.execute_reply": "2024-11-07T13:06:19.961644Z",
     "shell.execute_reply.started": "2024-11-07T13:06:14.512865Z"
    }
   },
   "outputs": [
    {
     "name": "stdout",
     "output_type": "stream",
     "text": [
      "CPU times: user 5.5 s, sys: 42.4 ms, total: 5.54 s\n",
      "Wall time: 5.45 s\n"
     ]
    }
   ],
   "source": [
    "%%time\n",
    "\n",
    "for vmax in np.linspace(0, 2**16, 10):\n",
    "    for layer in plot_options.layer.choices:\n",
    "        plot_options.layer = layer\n",
    "        plot_options.stretch_vmin = 0\n",
    "        plot_options.stretch_vmax = vmax"
   ]
  },
  {
   "cell_type": "code",
   "execution_count": null,
   "id": "001420f2-6a73-469a-84a2-669cdaa53101",
   "metadata": {},
   "outputs": [],
   "source": []
  },
  {
   "cell_type": "code",
   "execution_count": null,
   "id": "e1ad34fd-0baf-4698-a2e4-7999e18e9528",
   "metadata": {},
   "outputs": [],
   "source": []
  },
  {
   "cell_type": "code",
   "execution_count": null,
   "id": "563897f5-c664-4ae4-a5d0-5d21ab4479fa",
   "metadata": {},
   "outputs": [],
   "source": []
  },
  {
   "cell_type": "code",
   "execution_count": null,
   "id": "06d6a17d-4ec2-4071-8c17-41587904be41",
   "metadata": {},
   "outputs": [],
   "source": []
  },
  {
   "cell_type": "code",
   "execution_count": null,
   "id": "122448e0-3c77-444c-a8bc-950b5081518d",
   "metadata": {},
   "outputs": [],
   "source": []
  },
  {
   "cell_type": "code",
   "execution_count": null,
   "id": "5983836d-4c3b-43d1-af87-2256d46f6878",
   "metadata": {},
   "outputs": [],
   "source": []
  },
  {
   "cell_type": "code",
   "execution_count": null,
   "id": "4c789009-7f2e-4f3e-86b0-2b693ac3b731",
   "metadata": {},
   "outputs": [],
   "source": []
  }
 ],
 "metadata": {
  "kernelspec": {
   "display_name": "Python 3 (ipykernel)",
   "language": "python",
   "name": "python3"
  },
  "language_info": {
   "codemirror_mode": {
    "name": "ipython",
    "version": 3
   },
   "file_extension": ".py",
   "mimetype": "text/x-python",
   "name": "python",
   "nbconvert_exporter": "python",
   "pygments_lexer": "ipython3",
   "version": "3.11.2"
  }
 },
 "nbformat": 4,
 "nbformat_minor": 5
}
